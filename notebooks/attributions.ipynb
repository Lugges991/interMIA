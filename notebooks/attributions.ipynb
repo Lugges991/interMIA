{
 "cells": [
  {
   "cell_type": "code",
   "execution_count": 3,
   "id": "7fc29701-b315-4950-8b9d-3d9551ccb8ef",
   "metadata": {},
   "outputs": [],
   "source": [
    "import sys\n",
    "sys.path.insert(1, \"/home/lmahler/code/interMIA\")\n",
    "import interMIA"
   ]
  },
  {
   "cell_type": "code",
   "execution_count": null,
   "id": "67c33798-33a9-4e74-9cbe-e110cb171c3a",
   "metadata": {},
   "outputs": [],
   "source": []
  }
 ],
 "metadata": {
  "kernelspec": {
   "display_name": "Python 3",
   "language": "python",
   "name": "python3"
  },
  "language_info": {
   "codemirror_mode": {
    "name": "ipython",
    "version": 3
   },
   "file_extension": ".py",
   "mimetype": "text/x-python",
   "name": "python",
   "nbconvert_exporter": "python",
   "pygments_lexer": "ipython3",
   "version": "3.9.12"
  }
 },
 "nbformat": 4,
 "nbformat_minor": 5
}
